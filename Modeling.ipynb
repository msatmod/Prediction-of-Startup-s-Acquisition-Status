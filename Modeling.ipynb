{
 "cells": [
  {
   "cell_type": "markdown",
   "id": "24d88a30",
   "metadata": {},
   "source": [
    "# Modeling"
   ]
  },
  {
   "cell_type": "markdown",
   "id": "be76984a",
   "metadata": {},
   "source": [
    "In order to predict the status of acquisition of startup, we need to first build a model. We will be using Random Forest Model. "
   ]
  },
  {
   "cell_type": "markdown",
   "id": "7e43e4fe",
   "metadata": {},
   "source": [
    "### Random Forest Model\n",
    "\n",
    "The random forest is a model made up of many decision trees. Rather than just simply averaging the prediction of trees (which we could call a “forest”), this model uses two key concepts that gives it the name random:\n",
    "\n",
    "1. Random sampling of training data points when building trees\n",
    "2. Random subsets of features considered when splitting nodes\n",
    "\n",
    "We will first build one model without hyperparameters tuning and the second with hyperparameters tuning."
   ]
  },
  {
   "cell_type": "code",
   "execution_count": 1,
   "id": "af2563a1",
   "metadata": {},
   "outputs": [],
   "source": [
    "import numpy as np\n",
    "import pandas as pd\n",
    "import matplotlib.pyplot as plt\n",
    "import seaborn as sns\n",
    "\n",
    "import warnings  \n",
    "warnings.filterwarnings('ignore')\n",
    "from sklearn.model_selection import train_test_split, GridSearchCV, RandomizedSearchCV\n",
    "from sklearn.metrics import accuracy_score \n",
    "from sklearn.preprocessing import StandardScaler, MinMaxScaler \n",
    "from sklearn.ensemble import RandomForestClassifier\n",
    "from sklearn.metrics import confusion_matrix"
   ]
  },
  {
   "cell_type": "code",
   "execution_count": 2,
   "id": "5dad2020",
   "metadata": {},
   "outputs": [
    {
     "data": {
      "text/html": [
       "<div>\n",
       "<style scoped>\n",
       "    .dataframe tbody tr th:only-of-type {\n",
       "        vertical-align: middle;\n",
       "    }\n",
       "\n",
       "    .dataframe tbody tr th {\n",
       "        vertical-align: top;\n",
       "    }\n",
       "\n",
       "    .dataframe thead th {\n",
       "        text-align: right;\n",
       "    }\n",
       "</style>\n",
       "<table border=\"1\" class=\"dataframe\">\n",
       "  <thead>\n",
       "    <tr style=\"text-align: right;\">\n",
       "      <th></th>\n",
       "      <th>Unnamed: 0</th>\n",
       "      <th>status</th>\n",
       "      <th>founded_at</th>\n",
       "      <th>funding_rounds</th>\n",
       "      <th>funding_total_usd</th>\n",
       "      <th>milestones</th>\n",
       "      <th>relationships</th>\n",
       "      <th>lat</th>\n",
       "      <th>lng</th>\n",
       "      <th>category_code_biotech</th>\n",
       "      <th>...</th>\n",
       "      <th>country_code_FRA</th>\n",
       "      <th>country_code_GBR</th>\n",
       "      <th>country_code_IND</th>\n",
       "      <th>country_code_IRL</th>\n",
       "      <th>country_code_ISR</th>\n",
       "      <th>country_code_NLD</th>\n",
       "      <th>country_code_USA</th>\n",
       "      <th>country_code_other</th>\n",
       "      <th>isClosed</th>\n",
       "      <th>active_days</th>\n",
       "    </tr>\n",
       "  </thead>\n",
       "  <tbody>\n",
       "    <tr>\n",
       "      <th>0</th>\n",
       "      <td>5</td>\n",
       "      <td>1</td>\n",
       "      <td>2007</td>\n",
       "      <td>5.0</td>\n",
       "      <td>125371133.0</td>\n",
       "      <td>1.0</td>\n",
       "      <td>2.0</td>\n",
       "      <td>30.427755</td>\n",
       "      <td>-9.598107</td>\n",
       "      <td>0</td>\n",
       "      <td>...</td>\n",
       "      <td>0</td>\n",
       "      <td>0</td>\n",
       "      <td>0</td>\n",
       "      <td>0</td>\n",
       "      <td>0</td>\n",
       "      <td>0</td>\n",
       "      <td>0</td>\n",
       "      <td>1</td>\n",
       "      <td>1</td>\n",
       "      <td>3650.0</td>\n",
       "    </tr>\n",
       "    <tr>\n",
       "      <th>1</th>\n",
       "      <td>6</td>\n",
       "      <td>1</td>\n",
       "      <td>2008</td>\n",
       "      <td>5.0</td>\n",
       "      <td>125371133.0</td>\n",
       "      <td>1.0</td>\n",
       "      <td>4.0</td>\n",
       "      <td>22.307159</td>\n",
       "      <td>73.181219</td>\n",
       "      <td>0</td>\n",
       "      <td>...</td>\n",
       "      <td>0</td>\n",
       "      <td>0</td>\n",
       "      <td>1</td>\n",
       "      <td>0</td>\n",
       "      <td>0</td>\n",
       "      <td>0</td>\n",
       "      <td>0</td>\n",
       "      <td>0</td>\n",
       "      <td>1</td>\n",
       "      <td>3650.0</td>\n",
       "    </tr>\n",
       "    <tr>\n",
       "      <th>2</th>\n",
       "      <td>12</td>\n",
       "      <td>1</td>\n",
       "      <td>2008</td>\n",
       "      <td>5.0</td>\n",
       "      <td>125371133.0</td>\n",
       "      <td>1.0</td>\n",
       "      <td>2.0</td>\n",
       "      <td>35.686975</td>\n",
       "      <td>-105.937799</td>\n",
       "      <td>0</td>\n",
       "      <td>...</td>\n",
       "      <td>0</td>\n",
       "      <td>0</td>\n",
       "      <td>0</td>\n",
       "      <td>0</td>\n",
       "      <td>0</td>\n",
       "      <td>0</td>\n",
       "      <td>1</td>\n",
       "      <td>0</td>\n",
       "      <td>1</td>\n",
       "      <td>4745.0</td>\n",
       "    </tr>\n",
       "    <tr>\n",
       "      <th>3</th>\n",
       "      <td>15</td>\n",
       "      <td>1</td>\n",
       "      <td>2008</td>\n",
       "      <td>5.0</td>\n",
       "      <td>125371133.0</td>\n",
       "      <td>1.0</td>\n",
       "      <td>3.0</td>\n",
       "      <td>33.078655</td>\n",
       "      <td>-116.601964</td>\n",
       "      <td>0</td>\n",
       "      <td>...</td>\n",
       "      <td>0</td>\n",
       "      <td>0</td>\n",
       "      <td>0</td>\n",
       "      <td>0</td>\n",
       "      <td>0</td>\n",
       "      <td>0</td>\n",
       "      <td>1</td>\n",
       "      <td>0</td>\n",
       "      <td>1</td>\n",
       "      <td>3650.0</td>\n",
       "    </tr>\n",
       "    <tr>\n",
       "      <th>4</th>\n",
       "      <td>19</td>\n",
       "      <td>1</td>\n",
       "      <td>2007</td>\n",
       "      <td>5.0</td>\n",
       "      <td>68069200.0</td>\n",
       "      <td>1.0</td>\n",
       "      <td>14.0</td>\n",
       "      <td>37.774929</td>\n",
       "      <td>-122.419415</td>\n",
       "      <td>0</td>\n",
       "      <td>...</td>\n",
       "      <td>0</td>\n",
       "      <td>0</td>\n",
       "      <td>0</td>\n",
       "      <td>0</td>\n",
       "      <td>0</td>\n",
       "      <td>0</td>\n",
       "      <td>1</td>\n",
       "      <td>0</td>\n",
       "      <td>1</td>\n",
       "      <td>13870.0</td>\n",
       "    </tr>\n",
       "  </tbody>\n",
       "</table>\n",
       "<p>5 rows × 37 columns</p>\n",
       "</div>"
      ],
      "text/plain": [
       "   Unnamed: 0  status  founded_at  funding_rounds  funding_total_usd  \\\n",
       "0           5       1        2007             5.0        125371133.0   \n",
       "1           6       1        2008             5.0        125371133.0   \n",
       "2          12       1        2008             5.0        125371133.0   \n",
       "3          15       1        2008             5.0        125371133.0   \n",
       "4          19       1        2007             5.0         68069200.0   \n",
       "\n",
       "   milestones  relationships        lat         lng  category_code_biotech  \\\n",
       "0         1.0            2.0  30.427755   -9.598107                      0   \n",
       "1         1.0            4.0  22.307159   73.181219                      0   \n",
       "2         1.0            2.0  35.686975 -105.937799                      0   \n",
       "3         1.0            3.0  33.078655 -116.601964                      0   \n",
       "4         1.0           14.0  37.774929 -122.419415                      0   \n",
       "\n",
       "   ...  country_code_FRA  country_code_GBR  country_code_IND  \\\n",
       "0  ...                 0                 0                 0   \n",
       "1  ...                 0                 0                 1   \n",
       "2  ...                 0                 0                 0   \n",
       "3  ...                 0                 0                 0   \n",
       "4  ...                 0                 0                 0   \n",
       "\n",
       "   country_code_IRL  country_code_ISR  country_code_NLD  country_code_USA  \\\n",
       "0                 0                 0                 0                 0   \n",
       "1                 0                 0                 0                 0   \n",
       "2                 0                 0                 0                 1   \n",
       "3                 0                 0                 0                 1   \n",
       "4                 0                 0                 0                 1   \n",
       "\n",
       "   country_code_other  isClosed  active_days  \n",
       "0                   1         1       3650.0  \n",
       "1                   0         1       3650.0  \n",
       "2                   0         1       4745.0  \n",
       "3                   0         1       3650.0  \n",
       "4                   0         1      13870.0  \n",
       "\n",
       "[5 rows x 37 columns]"
      ]
     },
     "execution_count": 2,
     "metadata": {},
     "output_type": "execute_result"
    }
   ],
   "source": [
    "#read the cleaned data\n",
    "df = pd.read_csv('CleanedData.csv')\n",
    "df.head()"
   ]
  },
  {
   "cell_type": "code",
   "execution_count": 3,
   "id": "004b17ff",
   "metadata": {},
   "outputs": [],
   "source": [
    "#drop the unnamed:0 column as it is of no use\n",
    "df.drop(['Unnamed: 0'], axis=1, inplace=True)"
   ]
  },
  {
   "cell_type": "code",
   "execution_count": 4,
   "id": "735e8fca",
   "metadata": {},
   "outputs": [
    {
     "data": {
      "text/plain": [
       "Index(['status', 'founded_at', 'funding_rounds', 'funding_total_usd',\n",
       "       'milestones', 'relationships', 'lat', 'lng', 'category_code_biotech',\n",
       "       'category_code_consulting', 'category_code_ecommerce',\n",
       "       'category_code_education', 'category_code_enterprise',\n",
       "       'category_code_games_video', 'category_code_hardware',\n",
       "       'category_code_mobile', 'category_code_network_hosting',\n",
       "       'category_code_other', 'category_code_public_relations',\n",
       "       'category_code_search', 'category_code_software', 'category_code_web',\n",
       "       'country_code_BRA', 'country_code_CAN', 'country_code_DEU',\n",
       "       'country_code_ESP', 'country_code_FRA', 'country_code_GBR',\n",
       "       'country_code_IND', 'country_code_IRL', 'country_code_ISR',\n",
       "       'country_code_NLD', 'country_code_USA', 'country_code_other',\n",
       "       'isClosed', 'active_days'],\n",
       "      dtype='object')"
      ]
     },
     "execution_count": 4,
     "metadata": {},
     "output_type": "execute_result"
    }
   ],
   "source": [
    "df.columns"
   ]
  },
  {
   "cell_type": "markdown",
   "id": "e14382e9",
   "metadata": {},
   "source": [
    "Since we only need the financial data for the prediction of startup acquisition, we will remove others unnecessary columns."
   ]
  },
  {
   "cell_type": "code",
   "execution_count": 5,
   "id": "ea2af20c",
   "metadata": {},
   "outputs": [
    {
     "data": {
      "text/html": [
       "<div>\n",
       "<style scoped>\n",
       "    .dataframe tbody tr th:only-of-type {\n",
       "        vertical-align: middle;\n",
       "    }\n",
       "\n",
       "    .dataframe tbody tr th {\n",
       "        vertical-align: top;\n",
       "    }\n",
       "\n",
       "    .dataframe thead th {\n",
       "        text-align: right;\n",
       "    }\n",
       "</style>\n",
       "<table border=\"1\" class=\"dataframe\">\n",
       "  <thead>\n",
       "    <tr style=\"text-align: right;\">\n",
       "      <th></th>\n",
       "      <th>founded_at</th>\n",
       "      <th>funding_rounds</th>\n",
       "      <th>funding_total_usd</th>\n",
       "      <th>milestones</th>\n",
       "      <th>lat</th>\n",
       "      <th>lng</th>\n",
       "      <th>relationships</th>\n",
       "    </tr>\n",
       "  </thead>\n",
       "  <tbody>\n",
       "    <tr>\n",
       "      <th>0</th>\n",
       "      <td>2007</td>\n",
       "      <td>5.0</td>\n",
       "      <td>125371133.0</td>\n",
       "      <td>1.0</td>\n",
       "      <td>30.427755</td>\n",
       "      <td>-9.598107</td>\n",
       "      <td>2.0</td>\n",
       "    </tr>\n",
       "    <tr>\n",
       "      <th>1</th>\n",
       "      <td>2008</td>\n",
       "      <td>5.0</td>\n",
       "      <td>125371133.0</td>\n",
       "      <td>1.0</td>\n",
       "      <td>22.307159</td>\n",
       "      <td>73.181219</td>\n",
       "      <td>4.0</td>\n",
       "    </tr>\n",
       "    <tr>\n",
       "      <th>2</th>\n",
       "      <td>2008</td>\n",
       "      <td>5.0</td>\n",
       "      <td>125371133.0</td>\n",
       "      <td>1.0</td>\n",
       "      <td>35.686975</td>\n",
       "      <td>-105.937799</td>\n",
       "      <td>2.0</td>\n",
       "    </tr>\n",
       "    <tr>\n",
       "      <th>3</th>\n",
       "      <td>2008</td>\n",
       "      <td>5.0</td>\n",
       "      <td>125371133.0</td>\n",
       "      <td>1.0</td>\n",
       "      <td>33.078655</td>\n",
       "      <td>-116.601964</td>\n",
       "      <td>3.0</td>\n",
       "    </tr>\n",
       "    <tr>\n",
       "      <th>4</th>\n",
       "      <td>2007</td>\n",
       "      <td>5.0</td>\n",
       "      <td>68069200.0</td>\n",
       "      <td>1.0</td>\n",
       "      <td>37.774929</td>\n",
       "      <td>-122.419415</td>\n",
       "      <td>14.0</td>\n",
       "    </tr>\n",
       "    <tr>\n",
       "      <th>...</th>\n",
       "      <td>...</td>\n",
       "      <td>...</td>\n",
       "      <td>...</td>\n",
       "      <td>...</td>\n",
       "      <td>...</td>\n",
       "      <td>...</td>\n",
       "      <td>...</td>\n",
       "    </tr>\n",
       "    <tr>\n",
       "      <th>3492</th>\n",
       "      <td>2011</td>\n",
       "      <td>5.0</td>\n",
       "      <td>125371133.0</td>\n",
       "      <td>1.0</td>\n",
       "      <td>37.368830</td>\n",
       "      <td>-122.036350</td>\n",
       "      <td>2.0</td>\n",
       "    </tr>\n",
       "    <tr>\n",
       "      <th>3493</th>\n",
       "      <td>2011</td>\n",
       "      <td>5.0</td>\n",
       "      <td>125371133.0</td>\n",
       "      <td>2.0</td>\n",
       "      <td>42.387597</td>\n",
       "      <td>-71.099497</td>\n",
       "      <td>8.0</td>\n",
       "    </tr>\n",
       "    <tr>\n",
       "      <th>3494</th>\n",
       "      <td>2010</td>\n",
       "      <td>5.0</td>\n",
       "      <td>125371133.0</td>\n",
       "      <td>1.0</td>\n",
       "      <td>53.557378</td>\n",
       "      <td>-0.029435</td>\n",
       "      <td>1.0</td>\n",
       "    </tr>\n",
       "    <tr>\n",
       "      <th>3495</th>\n",
       "      <td>2011</td>\n",
       "      <td>5.0</td>\n",
       "      <td>125371133.0</td>\n",
       "      <td>1.0</td>\n",
       "      <td>11.016844</td>\n",
       "      <td>76.955832</td>\n",
       "      <td>1.0</td>\n",
       "    </tr>\n",
       "    <tr>\n",
       "      <th>3496</th>\n",
       "      <td>2008</td>\n",
       "      <td>5.0</td>\n",
       "      <td>125371133.0</td>\n",
       "      <td>1.0</td>\n",
       "      <td>40.712775</td>\n",
       "      <td>-74.005973</td>\n",
       "      <td>4.0</td>\n",
       "    </tr>\n",
       "  </tbody>\n",
       "</table>\n",
       "<p>3497 rows × 7 columns</p>\n",
       "</div>"
      ],
      "text/plain": [
       "      founded_at  funding_rounds  funding_total_usd  milestones        lat  \\\n",
       "0           2007             5.0        125371133.0         1.0  30.427755   \n",
       "1           2008             5.0        125371133.0         1.0  22.307159   \n",
       "2           2008             5.0        125371133.0         1.0  35.686975   \n",
       "3           2008             5.0        125371133.0         1.0  33.078655   \n",
       "4           2007             5.0         68069200.0         1.0  37.774929   \n",
       "...          ...             ...                ...         ...        ...   \n",
       "3492        2011             5.0        125371133.0         1.0  37.368830   \n",
       "3493        2011             5.0        125371133.0         2.0  42.387597   \n",
       "3494        2010             5.0        125371133.0         1.0  53.557378   \n",
       "3495        2011             5.0        125371133.0         1.0  11.016844   \n",
       "3496        2008             5.0        125371133.0         1.0  40.712775   \n",
       "\n",
       "             lng  relationships  \n",
       "0      -9.598107            2.0  \n",
       "1      73.181219            4.0  \n",
       "2    -105.937799            2.0  \n",
       "3    -116.601964            3.0  \n",
       "4    -122.419415           14.0  \n",
       "...          ...            ...  \n",
       "3492 -122.036350            2.0  \n",
       "3493  -71.099497            8.0  \n",
       "3494   -0.029435            1.0  \n",
       "3495   76.955832            1.0  \n",
       "3496  -74.005973            4.0  \n",
       "\n",
       "[3497 rows x 7 columns]"
      ]
     },
     "execution_count": 5,
     "metadata": {},
     "output_type": "execute_result"
    }
   ],
   "source": [
    "cols = df[['founded_at','funding_rounds', 'funding_total_usd', \n",
    "            'milestones', 'lat', 'lng', 'relationships']]\n",
    "X = cols.copy()\n",
    "X"
   ]
  },
  {
   "cell_type": "code",
   "execution_count": 6,
   "id": "5318a74b",
   "metadata": {},
   "outputs": [
    {
     "data": {
      "text/html": [
       "<div>\n",
       "<style scoped>\n",
       "    .dataframe tbody tr th:only-of-type {\n",
       "        vertical-align: middle;\n",
       "    }\n",
       "\n",
       "    .dataframe tbody tr th {\n",
       "        vertical-align: top;\n",
       "    }\n",
       "\n",
       "    .dataframe thead th {\n",
       "        text-align: right;\n",
       "    }\n",
       "</style>\n",
       "<table border=\"1\" class=\"dataframe\">\n",
       "  <thead>\n",
       "    <tr style=\"text-align: right;\">\n",
       "      <th></th>\n",
       "      <th>status</th>\n",
       "    </tr>\n",
       "  </thead>\n",
       "  <tbody>\n",
       "    <tr>\n",
       "      <th>0</th>\n",
       "      <td>1</td>\n",
       "    </tr>\n",
       "    <tr>\n",
       "      <th>1</th>\n",
       "      <td>1</td>\n",
       "    </tr>\n",
       "    <tr>\n",
       "      <th>2</th>\n",
       "      <td>1</td>\n",
       "    </tr>\n",
       "    <tr>\n",
       "      <th>3</th>\n",
       "      <td>1</td>\n",
       "    </tr>\n",
       "    <tr>\n",
       "      <th>4</th>\n",
       "      <td>1</td>\n",
       "    </tr>\n",
       "    <tr>\n",
       "      <th>...</th>\n",
       "      <td>...</td>\n",
       "    </tr>\n",
       "    <tr>\n",
       "      <th>3492</th>\n",
       "      <td>1</td>\n",
       "    </tr>\n",
       "    <tr>\n",
       "      <th>3493</th>\n",
       "      <td>1</td>\n",
       "    </tr>\n",
       "    <tr>\n",
       "      <th>3494</th>\n",
       "      <td>1</td>\n",
       "    </tr>\n",
       "    <tr>\n",
       "      <th>3495</th>\n",
       "      <td>1</td>\n",
       "    </tr>\n",
       "    <tr>\n",
       "      <th>3496</th>\n",
       "      <td>1</td>\n",
       "    </tr>\n",
       "  </tbody>\n",
       "</table>\n",
       "<p>3497 rows × 1 columns</p>\n",
       "</div>"
      ],
      "text/plain": [
       "      status\n",
       "0          1\n",
       "1          1\n",
       "2          1\n",
       "3          1\n",
       "4          1\n",
       "...      ...\n",
       "3492       1\n",
       "3493       1\n",
       "3494       1\n",
       "3495       1\n",
       "3496       1\n",
       "\n",
       "[3497 rows x 1 columns]"
      ]
     },
     "execution_count": 6,
     "metadata": {},
     "output_type": "execute_result"
    }
   ],
   "source": [
    "Y = df[['status']]\n",
    "Y"
   ]
  },
  {
   "cell_type": "markdown",
   "id": "e910c6a0",
   "metadata": {},
   "source": [
    "We need to standardize the values in the dataset."
   ]
  },
  {
   "cell_type": "code",
   "execution_count": 7,
   "id": "12cf7228",
   "metadata": {},
   "outputs": [],
   "source": [
    "scaler = StandardScaler()\n",
    "X_std = scaler.fit_transform(X)"
   ]
  },
  {
   "cell_type": "markdown",
   "id": "ed625acb",
   "metadata": {},
   "source": [
    "#### Split the dataset into training data and test data using train_test_split"
   ]
  },
  {
   "cell_type": "code",
   "execution_count": 8,
   "id": "380335fb",
   "metadata": {},
   "outputs": [],
   "source": [
    "X_train, X_test, Y_train, Y_test = train_test_split(X_std, Y, shuffle=True, test_size=0.20, random_state=42)"
   ]
  },
  {
   "cell_type": "markdown",
   "id": "6eb02872",
   "metadata": {},
   "source": [
    "### Model building\n",
    "\n",
    "Here we are just building the model without tuning the hyperparameters.\n"
   ]
  },
  {
   "cell_type": "code",
   "execution_count": 9,
   "id": "dd8ccb63",
   "metadata": {},
   "outputs": [
    {
     "data": {
      "text/plain": [
       "RandomForestClassifier()"
      ]
     },
     "execution_count": 9,
     "metadata": {},
     "output_type": "execute_result"
    }
   ],
   "source": [
    "#Random Forest Classifier Model \n",
    "rf = RandomForestClassifier()\n",
    "\n",
    "#Fitting the model\n",
    "rf.fit(X_train, Y_train)"
   ]
  },
  {
   "cell_type": "code",
   "execution_count": 10,
   "id": "71472f59",
   "metadata": {},
   "outputs": [],
   "source": [
    "#Prediction on the test set\n",
    "Y_pred = rf.predict(X_test)"
   ]
  },
  {
   "cell_type": "code",
   "execution_count": 11,
   "id": "b6ac6264",
   "metadata": {},
   "outputs": [
    {
     "name": "stdout",
     "output_type": "stream",
     "text": [
      "Accuracy of Random Forest Model: 0.9214285714285714\n"
     ]
    }
   ],
   "source": [
    "#Accuracy of the model without hyperparameters tuning.\n",
    "print(\"Accuracy of Random Forest Model:\", accuracy_score(Y_test, Y_pred))"
   ]
  },
  {
   "cell_type": "markdown",
   "id": "baeb9a3c",
   "metadata": {},
   "source": [
    "We got an accuracy of 92.14% which means the model is highly accurate. "
   ]
  },
  {
   "cell_type": "markdown",
   "id": "9a05ad3c",
   "metadata": {},
   "source": [
    "#### HyperParameters Tuning\n",
    "Now we are going to perform hyperparameter tuning using GridSearchCV"
   ]
  },
  {
   "cell_type": "code",
   "execution_count": 12,
   "id": "1ed7621e",
   "metadata": {},
   "outputs": [
    {
     "name": "stdout",
     "output_type": "stream",
     "text": [
      "Accuracy of Random Forest Model with hyperparameter tuning is  0.93\n"
     ]
    }
   ],
   "source": [
    "#GridSearchCV\n",
    "parameters = {\n",
    "  'criterion': 'entropy',\n",
    "  'max_depth': 6,\n",
    "  'min_samples_leaf': 1,\n",
    "  'min_samples_split': 2,\n",
    "  'n_estimators': 1200,\n",
    "  'bootstrap': True,\n",
    "  'max_features': 5\n",
    "}\n",
    "\n",
    "#Model building with the tuned parameters \n",
    "rf_tuned = RandomForestClassifier(**parameters)\n",
    "rf_tuned.fit(X_train, Y_train)\n",
    "Y_tuned_pred = rf_tuned.predict(X_test)\n",
    "\n",
    "#Accuracy of model with tuned Parameters\n",
    "print(\"Accuracy of Random Forest Model with hyperparameter tuning is \", accuracy_score(Y_test, Y_tuned_pred))"
   ]
  },
  {
   "cell_type": "markdown",
   "id": "52e7c64d",
   "metadata": {},
   "source": [
    "As we can see, tuning the parameters gave a us a better accuracy than without tuning.\n",
    "\n",
    "- Random Forest Model: 92.14% Accurate\n",
    "- Random Forest Model with Hyperparameter Tuning: 93% Accurate\n"
   ]
  },
  {
   "cell_type": "markdown",
   "id": "a7e2ff14",
   "metadata": {},
   "source": [
    "### Model Evaluation\n",
    "\n",
    "#### Confusion Matrix\n",
    "A confusion matrix is a way to express how many of a classifier’s predictions were correct, and when incorrect, where the classifier got confused."
   ]
  },
  {
   "cell_type": "code",
   "execution_count": 13,
   "id": "3ca1b7af",
   "metadata": {},
   "outputs": [
    {
     "data": {
      "text/plain": [
       "array([[643,   5,   1,   0],\n",
       "       [ 34,   2,   0,   1],\n",
       "       [  6,   0,   0,   0],\n",
       "       [  7,   1,   0,   0]])"
      ]
     },
     "execution_count": 13,
     "metadata": {},
     "output_type": "execute_result"
    }
   ],
   "source": [
    "#For Random Forest Model\n",
    "\n",
    "confusion_matrix(Y_test, Y_pred)\n"
   ]
  },
  {
   "cell_type": "code",
   "execution_count": 14,
   "id": "316d0afe",
   "metadata": {},
   "outputs": [
    {
     "data": {
      "text/plain": [
       "array([[649,   0,   0,   0],\n",
       "       [ 35,   2,   0,   0],\n",
       "       [  6,   0,   0,   0],\n",
       "       [  7,   1,   0,   0]])"
      ]
     },
     "execution_count": 14,
     "metadata": {},
     "output_type": "execute_result"
    }
   ],
   "source": [
    "# For Random Forest Model with tuning\n",
    "\n",
    "confusion_matrix(Y_test, Y_tuned_pred)"
   ]
  },
  {
   "cell_type": "markdown",
   "id": "43162d33",
   "metadata": {},
   "source": [
    "#### Features Importance\n",
    "\n",
    "The feature importance (variable importance) describes which features are relevant. It can help with better understanding of the solved problem and sometimes lead to model improvements by employing the feature selection.\n",
    "\n"
   ]
  },
  {
   "cell_type": "code",
   "execution_count": 15,
   "id": "71653ee6",
   "metadata": {},
   "outputs": [
    {
     "data": {
      "text/html": [
       "<div>\n",
       "<style scoped>\n",
       "    .dataframe tbody tr th:only-of-type {\n",
       "        vertical-align: middle;\n",
       "    }\n",
       "\n",
       "    .dataframe tbody tr th {\n",
       "        vertical-align: top;\n",
       "    }\n",
       "\n",
       "    .dataframe thead th {\n",
       "        text-align: right;\n",
       "    }\n",
       "</style>\n",
       "<table border=\"1\" class=\"dataframe\">\n",
       "  <thead>\n",
       "    <tr style=\"text-align: right;\">\n",
       "      <th></th>\n",
       "      <th>Features</th>\n",
       "      <th>Importance</th>\n",
       "    </tr>\n",
       "  </thead>\n",
       "  <tbody>\n",
       "    <tr>\n",
       "      <th>5</th>\n",
       "      <td>lng</td>\n",
       "      <td>0.243207</td>\n",
       "    </tr>\n",
       "    <tr>\n",
       "      <th>4</th>\n",
       "      <td>lat</td>\n",
       "      <td>0.224579</td>\n",
       "    </tr>\n",
       "    <tr>\n",
       "      <th>0</th>\n",
       "      <td>founded_at</td>\n",
       "      <td>0.216877</td>\n",
       "    </tr>\n",
       "    <tr>\n",
       "      <th>6</th>\n",
       "      <td>relationships</td>\n",
       "      <td>0.177760</td>\n",
       "    </tr>\n",
       "    <tr>\n",
       "      <th>3</th>\n",
       "      <td>milestones</td>\n",
       "      <td>0.072845</td>\n",
       "    </tr>\n",
       "    <tr>\n",
       "      <th>2</th>\n",
       "      <td>funding_total_usd</td>\n",
       "      <td>0.039079</td>\n",
       "    </tr>\n",
       "    <tr>\n",
       "      <th>1</th>\n",
       "      <td>funding_rounds</td>\n",
       "      <td>0.025653</td>\n",
       "    </tr>\n",
       "  </tbody>\n",
       "</table>\n",
       "</div>"
      ],
      "text/plain": [
       "            Features  Importance\n",
       "5                lng    0.243207\n",
       "4                lat    0.224579\n",
       "0         founded_at    0.216877\n",
       "6      relationships    0.177760\n",
       "3         milestones    0.072845\n",
       "2  funding_total_usd    0.039079\n",
       "1     funding_rounds    0.025653"
      ]
     },
     "execution_count": 15,
     "metadata": {},
     "output_type": "execute_result"
    }
   ],
   "source": [
    "feature_imp = pd.DataFrame({\"Features\": list(X.columns),\n",
    "                            \"Importance\": rf.feature_importances_}\n",
    "                            ).sort_values(\"Importance\", ascending=False)\n",
    "feature_imp"
   ]
  },
  {
   "cell_type": "code",
   "execution_count": 16,
   "id": "d8c0d541",
   "metadata": {},
   "outputs": [
    {
     "data": {
      "text/plain": [
       "Text(0.5, 0, 'Random Forest Feature Importance')"
      ]
     },
     "execution_count": 16,
     "metadata": {},
     "output_type": "execute_result"
    },
    {
     "data": {
      "image/png": "[encoded data removed]",
      "text/plain": [
       "<Figure size 432x288 with 1 Axes>"
      ]
     },
     "metadata": {
      "needs_background": "light"
     },
     "output_type": "display_data"
    }
   ],
   "source": [
    "sns.barplot(feature_imp.Importance, feature_imp.Features)\n",
    "plt.xlabel(\"Random Forest Feature Importance\")"
   ]
  },
  {
   "cell_type": "markdown",
   "id": "35a8a109",
   "metadata": {},
   "source": [
    "Let's create a final dataset with all the important columns for the next step which is model deployment."
   ]
  },
  {
   "cell_type": "code",
   "execution_count": 17,
   "id": "5788d172",
   "metadata": {},
   "outputs": [],
   "source": [
    "Final_data = X\n",
    "Final_data['status'] = Y"
   ]
  },
  {
   "cell_type": "code",
   "execution_count": 18,
   "id": "89c60642",
   "metadata": {},
   "outputs": [
    {
     "data": {
      "text/html": [
       "<div>\n",
       "<style scoped>\n",
       "    .dataframe tbody tr th:only-of-type {\n",
       "        vertical-align: middle;\n",
       "    }\n",
       "\n",
       "    .dataframe tbody tr th {\n",
       "        vertical-align: top;\n",
       "    }\n",
       "\n",
       "    .dataframe thead th {\n",
       "        text-align: right;\n",
       "    }\n",
       "</style>\n",
       "<table border=\"1\" class=\"dataframe\">\n",
       "  <thead>\n",
       "    <tr style=\"text-align: right;\">\n",
       "      <th></th>\n",
       "      <th>founded_at</th>\n",
       "      <th>funding_rounds</th>\n",
       "      <th>funding_total_usd</th>\n",
       "      <th>milestones</th>\n",
       "      <th>lat</th>\n",
       "      <th>lng</th>\n",
       "      <th>relationships</th>\n",
       "      <th>status</th>\n",
       "    </tr>\n",
       "  </thead>\n",
       "  <tbody>\n",
       "    <tr>\n",
       "      <th>0</th>\n",
       "      <td>2007</td>\n",
       "      <td>5.0</td>\n",
       "      <td>125371133.0</td>\n",
       "      <td>1.0</td>\n",
       "      <td>30.427755</td>\n",
       "      <td>-9.598107</td>\n",
       "      <td>2.0</td>\n",
       "      <td>1</td>\n",
       "    </tr>\n",
       "    <tr>\n",
       "      <th>1</th>\n",
       "      <td>2008</td>\n",
       "      <td>5.0</td>\n",
       "      <td>125371133.0</td>\n",
       "      <td>1.0</td>\n",
       "      <td>22.307159</td>\n",
       "      <td>73.181219</td>\n",
       "      <td>4.0</td>\n",
       "      <td>1</td>\n",
       "    </tr>\n",
       "    <tr>\n",
       "      <th>2</th>\n",
       "      <td>2008</td>\n",
       "      <td>5.0</td>\n",
       "      <td>125371133.0</td>\n",
       "      <td>1.0</td>\n",
       "      <td>35.686975</td>\n",
       "      <td>-105.937799</td>\n",
       "      <td>2.0</td>\n",
       "      <td>1</td>\n",
       "    </tr>\n",
       "    <tr>\n",
       "      <th>3</th>\n",
       "      <td>2008</td>\n",
       "      <td>5.0</td>\n",
       "      <td>125371133.0</td>\n",
       "      <td>1.0</td>\n",
       "      <td>33.078655</td>\n",
       "      <td>-116.601964</td>\n",
       "      <td>3.0</td>\n",
       "      <td>1</td>\n",
       "    </tr>\n",
       "    <tr>\n",
       "      <th>4</th>\n",
       "      <td>2007</td>\n",
       "      <td>5.0</td>\n",
       "      <td>68069200.0</td>\n",
       "      <td>1.0</td>\n",
       "      <td>37.774929</td>\n",
       "      <td>-122.419415</td>\n",
       "      <td>14.0</td>\n",
       "      <td>1</td>\n",
       "    </tr>\n",
       "    <tr>\n",
       "      <th>...</th>\n",
       "      <td>...</td>\n",
       "      <td>...</td>\n",
       "      <td>...</td>\n",
       "      <td>...</td>\n",
       "      <td>...</td>\n",
       "      <td>...</td>\n",
       "      <td>...</td>\n",
       "      <td>...</td>\n",
       "    </tr>\n",
       "    <tr>\n",
       "      <th>3492</th>\n",
       "      <td>2011</td>\n",
       "      <td>5.0</td>\n",
       "      <td>125371133.0</td>\n",
       "      <td>1.0</td>\n",
       "      <td>37.368830</td>\n",
       "      <td>-122.036350</td>\n",
       "      <td>2.0</td>\n",
       "      <td>1</td>\n",
       "    </tr>\n",
       "    <tr>\n",
       "      <th>3493</th>\n",
       "      <td>2011</td>\n",
       "      <td>5.0</td>\n",
       "      <td>125371133.0</td>\n",
       "      <td>2.0</td>\n",
       "      <td>42.387597</td>\n",
       "      <td>-71.099497</td>\n",
       "      <td>8.0</td>\n",
       "      <td>1</td>\n",
       "    </tr>\n",
       "    <tr>\n",
       "      <th>3494</th>\n",
       "      <td>2010</td>\n",
       "      <td>5.0</td>\n",
       "      <td>125371133.0</td>\n",
       "      <td>1.0</td>\n",
       "      <td>53.557378</td>\n",
       "      <td>-0.029435</td>\n",
       "      <td>1.0</td>\n",
       "      <td>1</td>\n",
       "    </tr>\n",
       "    <tr>\n",
       "      <th>3495</th>\n",
       "      <td>2011</td>\n",
       "      <td>5.0</td>\n",
       "      <td>125371133.0</td>\n",
       "      <td>1.0</td>\n",
       "      <td>11.016844</td>\n",
       "      <td>76.955832</td>\n",
       "      <td>1.0</td>\n",
       "      <td>1</td>\n",
       "    </tr>\n",
       "    <tr>\n",
       "      <th>3496</th>\n",
       "      <td>2008</td>\n",
       "      <td>5.0</td>\n",
       "      <td>125371133.0</td>\n",
       "      <td>1.0</td>\n",
       "      <td>40.712775</td>\n",
       "      <td>-74.005973</td>\n",
       "      <td>4.0</td>\n",
       "      <td>1</td>\n",
       "    </tr>\n",
       "  </tbody>\n",
       "</table>\n",
       "<p>3497 rows × 8 columns</p>\n",
       "</div>"
      ],
      "text/plain": [
       "      founded_at  funding_rounds  funding_total_usd  milestones        lat  \\\n",
       "0           2007             5.0        125371133.0         1.0  30.427755   \n",
       "1           2008             5.0        125371133.0         1.0  22.307159   \n",
       "2           2008             5.0        125371133.0         1.0  35.686975   \n",
       "3           2008             5.0        125371133.0         1.0  33.078655   \n",
       "4           2007             5.0         68069200.0         1.0  37.774929   \n",
       "...          ...             ...                ...         ...        ...   \n",
       "3492        2011             5.0        125371133.0         1.0  37.368830   \n",
       "3493        2011             5.0        125371133.0         2.0  42.387597   \n",
       "3494        2010             5.0        125371133.0         1.0  53.557378   \n",
       "3495        2011             5.0        125371133.0         1.0  11.016844   \n",
       "3496        2008             5.0        125371133.0         1.0  40.712775   \n",
       "\n",
       "             lng  relationships  status  \n",
       "0      -9.598107            2.0       1  \n",
       "1      73.181219            4.0       1  \n",
       "2    -105.937799            2.0       1  \n",
       "3    -116.601964            3.0       1  \n",
       "4    -122.419415           14.0       1  \n",
       "...          ...            ...     ...  \n",
       "3492 -122.036350            2.0       1  \n",
       "3493  -71.099497            8.0       1  \n",
       "3494   -0.029435            1.0       1  \n",
       "3495   76.955832            1.0       1  \n",
       "3496  -74.005973            4.0       1  \n",
       "\n",
       "[3497 rows x 8 columns]"
      ]
     },
     "execution_count": 18,
     "metadata": {},
     "output_type": "execute_result"
    }
   ],
   "source": [
    "Final_data"
   ]
  },
  {
   "cell_type": "code",
   "execution_count": 19,
   "id": "0645fa73",
   "metadata": {},
   "outputs": [],
   "source": [
    "Final_data.to_csv('Final_Data.csv', index=False)"
   ]
  },
  {
   "cell_type": "markdown",
   "id": "e6dd48b7",
   "metadata": {},
   "source": [
    "### Saving the Model file\n"
   ]
  },
  {
   "cell_type": "code",
   "execution_count": 20,
   "id": "38f7ea2c",
   "metadata": {},
   "outputs": [],
   "source": [
    "import joblib"
   ]
  },
  {
   "cell_type": "code",
   "execution_count": 21,
   "id": "948df688",
   "metadata": {},
   "outputs": [
    {
     "data": {
      "text/plain": [
       "['model.joblib']"
      ]
     },
     "execution_count": 21,
     "metadata": {},
     "output_type": "execute_result"
    }
   ],
   "source": [
    "joblib.dump(rf_tuned, 'model.joblib')"
   ]
  }
 ],
 "metadata": {
  "kernelspec": {
   "display_name": "Python 3 (ipykernel)",
   "language": "python",
   "name": "python3"
  },
  "language_info": {
   "codemirror_mode": {
    "name": "ipython",
    "version": 3
   },
   "file_extension": ".py",
   "mimetype": "text/x-python",
   "name": "python",
   "nbconvert_exporter": "python",
   "pygments_lexer": "ipython3",
   "version": "3.8.8"
  }
 },
 "nbformat": 4,
 "nbformat_minor": 5
}
